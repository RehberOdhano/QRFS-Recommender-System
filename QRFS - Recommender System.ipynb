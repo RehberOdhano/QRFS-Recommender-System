{
 "cells": [
  {
   "cell_type": "code",
   "execution_count": 22,
   "id": "ba47d61b",
   "metadata": {},
   "outputs": [],
   "source": [
    "# importing the required libraries\n",
    "import numpy as np \n",
    "import pandas as pd\n",
    "# from scipy.stats import randint\n",
    "import seaborn as sns # used for plot interactive graph.\n",
    "import matplotlib.pyplot as plt\n",
    "# from io import StringIO\n",
    "from sklearn.feature_extraction.text import TfidfVectorizer\n",
    "from sklearn.feature_selection import chi2\n",
    "# from IPython.display import display\n",
    "from sklearn.model_selection import train_test_split\n",
    "# from sklearn.feature_extraction.text import TfidfTransformer\n",
    "from sklearn.naive_bayes import MultinomialNB\n",
    "# from sklearn.linear_model import LogisticRegression\n",
    "# from sklearn.ensemble import RandomForestClassifier\n",
    "from sklearn.svm import LinearSVC\n",
    "from sklearn.metrics import accuracy_score\n",
    "# from sklearn.model_selection import cross_val_score\n",
    "from sklearn.metrics import confusion_matrix\n",
    "from sklearn.metrics import accuracy_score\n",
    "import joblib\n",
    "# from sklearn import metrics"
   ]
  },
  {
   "cell_type": "code",
   "execution_count": 23,
   "id": "590ca8ca",
   "metadata": {},
   "outputs": [
    {
     "data": {
      "text/html": [
       "<div>\n",
       "<style scoped>\n",
       "    .dataframe tbody tr th:only-of-type {\n",
       "        vertical-align: middle;\n",
       "    }\n",
       "\n",
       "    .dataframe tbody tr th {\n",
       "        vertical-align: top;\n",
       "    }\n",
       "\n",
       "    .dataframe thead th {\n",
       "        text-align: right;\n",
       "    }\n",
       "</style>\n",
       "<table border=\"1\" class=\"dataframe\">\n",
       "  <thead>\n",
       "    <tr style=\"text-align: right;\">\n",
       "      <th></th>\n",
       "      <th>CATEGORY</th>\n",
       "      <th>COMPLAINT</th>\n",
       "    </tr>\n",
       "  </thead>\n",
       "  <tbody>\n",
       "    <tr>\n",
       "      <th>0</th>\n",
       "      <td>Software Issues</td>\n",
       "      <td>My university CMS is misbehaving, it is not sh...</td>\n",
       "    </tr>\n",
       "    <tr>\n",
       "      <th>1</th>\n",
       "      <td>Hardware Issues</td>\n",
       "      <td>The projector is not turning on. Nothing happe...</td>\n",
       "    </tr>\n",
       "    <tr>\n",
       "      <th>2</th>\n",
       "      <td>Maintenance and Cleaning</td>\n",
       "      <td>Classroom 203 is extremely dirty, there is dus...</td>\n",
       "    </tr>\n",
       "    <tr>\n",
       "      <th>3</th>\n",
       "      <td>Scheduling and Management Issues</td>\n",
       "      <td>No classroom is available at the time slot all...</td>\n",
       "    </tr>\n",
       "    <tr>\n",
       "      <th>4</th>\n",
       "      <td>Hardware Issues</td>\n",
       "      <td>My university laptop is not charging. The ligh...</td>\n",
       "    </tr>\n",
       "  </tbody>\n",
       "</table>\n",
       "</div>"
      ],
      "text/plain": [
       "                           CATEGORY  \\\n",
       "0                   Software Issues   \n",
       "1                   Hardware Issues   \n",
       "2          Maintenance and Cleaning   \n",
       "3  Scheduling and Management Issues   \n",
       "4                   Hardware Issues   \n",
       "\n",
       "                                           COMPLAINT  \n",
       "0  My university CMS is misbehaving, it is not sh...  \n",
       "1  The projector is not turning on. Nothing happe...  \n",
       "2  Classroom 203 is extremely dirty, there is dus...  \n",
       "3  No classroom is available at the time slot all...  \n",
       "4  My university laptop is not charging. The ligh...  "
      ]
     },
     "execution_count": 23,
     "metadata": {},
     "output_type": "execute_result"
    }
   ],
   "source": [
    "# loading dataset\n",
    "df = pd.DataFrame(pd.read_csv('F:\\CUI\\QRFS-FYP\\QRFS-Dataset\\dataset.csv'))\n",
    "df = df.loc[:,[\"CATEGORY\", \"COMPLAINT\"]]\n",
    "df.head()"
   ]
  },
  {
   "cell_type": "code",
   "execution_count": 24,
   "id": "41fab0ce",
   "metadata": {},
   "outputs": [
    {
     "name": "stdout",
     "output_type": "stream",
     "text": [
      "(22, 2)\n"
     ]
    },
    {
     "data": {
      "text/html": [
       "<div>\n",
       "<style scoped>\n",
       "    .dataframe tbody tr th:only-of-type {\n",
       "        vertical-align: middle;\n",
       "    }\n",
       "\n",
       "    .dataframe tbody tr th {\n",
       "        vertical-align: top;\n",
       "    }\n",
       "\n",
       "    .dataframe thead th {\n",
       "        text-align: right;\n",
       "    }\n",
       "</style>\n",
       "<table border=\"1\" class=\"dataframe\">\n",
       "  <thead>\n",
       "    <tr style=\"text-align: right;\">\n",
       "      <th></th>\n",
       "      <th>0</th>\n",
       "      <th>1</th>\n",
       "      <th>2</th>\n",
       "    </tr>\n",
       "  </thead>\n",
       "  <tbody>\n",
       "    <tr>\n",
       "      <th>CATEGORY</th>\n",
       "      <td>Software Issues</td>\n",
       "      <td>Hardware Issues</td>\n",
       "      <td>Maintenance and Cleaning</td>\n",
       "    </tr>\n",
       "    <tr>\n",
       "      <th>COMPLAINT</th>\n",
       "      <td>My university CMS is misbehaving, it is not sh...</td>\n",
       "      <td>The projector is not turning on. Nothing happe...</td>\n",
       "      <td>Classroom 203 is extremely dirty, there is dus...</td>\n",
       "    </tr>\n",
       "  </tbody>\n",
       "</table>\n",
       "</div>"
      ],
      "text/plain": [
       "                                                           0  \\\n",
       "CATEGORY                                     Software Issues   \n",
       "COMPLAINT  My university CMS is misbehaving, it is not sh...   \n",
       "\n",
       "                                                           1  \\\n",
       "CATEGORY                                     Hardware Issues   \n",
       "COMPLAINT  The projector is not turning on. Nothing happe...   \n",
       "\n",
       "                                                           2  \n",
       "CATEGORY                            Maintenance and Cleaning  \n",
       "COMPLAINT  Classroom 203 is extremely dirty, there is dus...  "
      ]
     },
     "execution_count": 24,
     "metadata": {},
     "output_type": "execute_result"
    }
   ],
   "source": [
    "print(df.shape)\n",
    "df.head(3).T"
   ]
  },
  {
   "cell_type": "code",
   "execution_count": 25,
   "id": "b585a5dd",
   "metadata": {},
   "outputs": [
    {
     "data": {
      "text/plain": [
       "array([['Software Issues'],\n",
       "       ['Hardware Issues'],\n",
       "       ['Maintenance and Cleaning'],\n",
       "       ['Scheduling and Management Issues'],\n",
       "       ['Network Issues']], dtype=object)"
      ]
     },
     "execution_count": 25,
     "metadata": {},
     "output_type": "execute_result"
    }
   ],
   "source": [
    "# finding the unique products\n",
    "pd.DataFrame(df.CATEGORY.unique()).values"
   ]
  },
  {
   "cell_type": "code",
   "execution_count": 26,
   "id": "3039eab5",
   "metadata": {},
   "outputs": [
    {
     "data": {
      "text/html": [
       "<div>\n",
       "<style scoped>\n",
       "    .dataframe tbody tr th:only-of-type {\n",
       "        vertical-align: middle;\n",
       "    }\n",
       "\n",
       "    .dataframe tbody tr th {\n",
       "        vertical-align: top;\n",
       "    }\n",
       "\n",
       "    .dataframe thead th {\n",
       "        text-align: right;\n",
       "    }\n",
       "</style>\n",
       "<table border=\"1\" class=\"dataframe\">\n",
       "  <thead>\n",
       "    <tr style=\"text-align: right;\">\n",
       "      <th></th>\n",
       "      <th>CATEGORY</th>\n",
       "      <th>COMPLAINT</th>\n",
       "    </tr>\n",
       "  </thead>\n",
       "  <tbody>\n",
       "    <tr>\n",
       "      <th>5</th>\n",
       "      <td>Network Issues</td>\n",
       "      <td>The portal is very slow in loading, i have tri...</td>\n",
       "    </tr>\n",
       "    <tr>\n",
       "      <th>11</th>\n",
       "      <td>Network Issues</td>\n",
       "      <td>Internet wifi is down, I cannot connect to the...</td>\n",
       "    </tr>\n",
       "    <tr>\n",
       "      <th>12</th>\n",
       "      <td>Network Issues</td>\n",
       "      <td>The lan cable in project lab is not working, t...</td>\n",
       "    </tr>\n",
       "    <tr>\n",
       "      <th>8</th>\n",
       "      <td>Hardware Issues</td>\n",
       "      <td>The charging socket in my office is not workin...</td>\n",
       "    </tr>\n",
       "    <tr>\n",
       "      <th>9</th>\n",
       "      <td>Software Issues</td>\n",
       "      <td>The university portal does not give any respon...</td>\n",
       "    </tr>\n",
       "  </tbody>\n",
       "</table>\n",
       "</div>"
      ],
      "text/plain": [
       "           CATEGORY                                          COMPLAINT\n",
       "5    Network Issues  The portal is very slow in loading, i have tri...\n",
       "11   Network Issues  Internet wifi is down, I cannot connect to the...\n",
       "12   Network Issues  The lan cable in project lab is not working, t...\n",
       "8   Hardware Issues  The charging socket in my office is not workin...\n",
       "9   Software Issues  The university portal does not give any respon..."
      ]
     },
     "execution_count": 26,
     "metadata": {},
     "output_type": "execute_result"
    }
   ],
   "source": [
    "# Because the computation is time consuming (in terms of CPU), the data was sampled\n",
    "df2 = df.sample(100, random_state=1, replace=True).copy()\n",
    "df2.head()"
   ]
  },
  {
   "cell_type": "code",
   "execution_count": 27,
   "id": "e487129a",
   "metadata": {},
   "outputs": [
    {
     "data": {
      "text/html": [
       "<div>\n",
       "<style scoped>\n",
       "    .dataframe tbody tr th:only-of-type {\n",
       "        vertical-align: middle;\n",
       "    }\n",
       "\n",
       "    .dataframe tbody tr th {\n",
       "        vertical-align: top;\n",
       "    }\n",
       "\n",
       "    .dataframe thead th {\n",
       "        text-align: right;\n",
       "    }\n",
       "</style>\n",
       "<table border=\"1\" class=\"dataframe\">\n",
       "  <thead>\n",
       "    <tr style=\"text-align: right;\">\n",
       "      <th></th>\n",
       "      <th>CATEGORY</th>\n",
       "      <th>category_id</th>\n",
       "    </tr>\n",
       "  </thead>\n",
       "  <tbody>\n",
       "    <tr>\n",
       "      <th>5</th>\n",
       "      <td>Network Issues</td>\n",
       "      <td>0</td>\n",
       "    </tr>\n",
       "    <tr>\n",
       "      <th>8</th>\n",
       "      <td>Hardware Issues</td>\n",
       "      <td>1</td>\n",
       "    </tr>\n",
       "    <tr>\n",
       "      <th>9</th>\n",
       "      <td>Software Issues</td>\n",
       "      <td>2</td>\n",
       "    </tr>\n",
       "    <tr>\n",
       "      <th>16</th>\n",
       "      <td>Maintenance and Cleaning</td>\n",
       "      <td>3</td>\n",
       "    </tr>\n",
       "    <tr>\n",
       "      <th>13</th>\n",
       "      <td>Scheduling and Management Issues</td>\n",
       "      <td>4</td>\n",
       "    </tr>\n",
       "  </tbody>\n",
       "</table>\n",
       "</div>"
      ],
      "text/plain": [
       "                            CATEGORY  category_id\n",
       "5                     Network Issues            0\n",
       "8                    Hardware Issues            1\n",
       "9                    Software Issues            2\n",
       "16          Maintenance and Cleaning            3\n",
       "13  Scheduling and Management Issues            4"
      ]
     },
     "execution_count": 27,
     "metadata": {},
     "output_type": "execute_result"
    }
   ],
   "source": [
    "# Create a new column 'category_id' with encoded categories \n",
    "df2['category_id'] = df2['CATEGORY'].factorize()[0]\n",
    "category_id_df = df2[['CATEGORY', 'category_id']].drop_duplicates()\n",
    "category_id_df"
   ]
  },
  {
   "cell_type": "code",
   "execution_count": 28,
   "id": "cda677cb",
   "metadata": {},
   "outputs": [
    {
     "data": {
      "text/html": [
       "<div>\n",
       "<style scoped>\n",
       "    .dataframe tbody tr th:only-of-type {\n",
       "        vertical-align: middle;\n",
       "    }\n",
       "\n",
       "    .dataframe tbody tr th {\n",
       "        vertical-align: top;\n",
       "    }\n",
       "\n",
       "    .dataframe thead th {\n",
       "        text-align: right;\n",
       "    }\n",
       "</style>\n",
       "<table border=\"1\" class=\"dataframe\">\n",
       "  <thead>\n",
       "    <tr style=\"text-align: right;\">\n",
       "      <th></th>\n",
       "      <th>CATEGORY</th>\n",
       "      <th>COMPLAINT</th>\n",
       "      <th>category_id</th>\n",
       "    </tr>\n",
       "  </thead>\n",
       "  <tbody>\n",
       "    <tr>\n",
       "      <th>5</th>\n",
       "      <td>Network Issues</td>\n",
       "      <td>The portal is very slow in loading, i have tri...</td>\n",
       "      <td>0</td>\n",
       "    </tr>\n",
       "    <tr>\n",
       "      <th>11</th>\n",
       "      <td>Network Issues</td>\n",
       "      <td>Internet wifi is down, I cannot connect to the...</td>\n",
       "      <td>0</td>\n",
       "    </tr>\n",
       "    <tr>\n",
       "      <th>12</th>\n",
       "      <td>Network Issues</td>\n",
       "      <td>The lan cable in project lab is not working, t...</td>\n",
       "      <td>0</td>\n",
       "    </tr>\n",
       "    <tr>\n",
       "      <th>8</th>\n",
       "      <td>Hardware Issues</td>\n",
       "      <td>The charging socket in my office is not workin...</td>\n",
       "      <td>1</td>\n",
       "    </tr>\n",
       "    <tr>\n",
       "      <th>9</th>\n",
       "      <td>Software Issues</td>\n",
       "      <td>The university portal does not give any respon...</td>\n",
       "      <td>2</td>\n",
       "    </tr>\n",
       "  </tbody>\n",
       "</table>\n",
       "</div>"
      ],
      "text/plain": [
       "           CATEGORY                                          COMPLAINT  \\\n",
       "5    Network Issues  The portal is very slow in loading, i have tri...   \n",
       "11   Network Issues  Internet wifi is down, I cannot connect to the...   \n",
       "12   Network Issues  The lan cable in project lab is not working, t...   \n",
       "8   Hardware Issues  The charging socket in my office is not workin...   \n",
       "9   Software Issues  The university portal does not give any respon...   \n",
       "\n",
       "    category_id  \n",
       "5             0  \n",
       "11            0  \n",
       "12            0  \n",
       "8             1  \n",
       "9             2  "
      ]
     },
     "execution_count": 28,
     "metadata": {},
     "output_type": "execute_result"
    }
   ],
   "source": [
    "df2.head()"
   ]
  },
  {
   "cell_type": "code",
   "execution_count": 29,
   "id": "72154cd9",
   "metadata": {},
   "outputs": [
    {
     "data": {
      "text/html": [
       "<div>\n",
       "<style scoped>\n",
       "    .dataframe tbody tr th:only-of-type {\n",
       "        vertical-align: middle;\n",
       "    }\n",
       "\n",
       "    .dataframe tbody tr th {\n",
       "        vertical-align: top;\n",
       "    }\n",
       "\n",
       "    .dataframe thead th {\n",
       "        text-align: right;\n",
       "    }\n",
       "</style>\n",
       "<table border=\"1\" class=\"dataframe\">\n",
       "  <thead>\n",
       "    <tr style=\"text-align: right;\">\n",
       "      <th></th>\n",
       "      <th>CATEGORY</th>\n",
       "      <th>COMPLAINT</th>\n",
       "    </tr>\n",
       "  </thead>\n",
       "  <tbody>\n",
       "    <tr>\n",
       "      <th>0</th>\n",
       "      <td>Software Issues</td>\n",
       "      <td>My university CMS is misbehaving, it is not sh...</td>\n",
       "    </tr>\n",
       "    <tr>\n",
       "      <th>1</th>\n",
       "      <td>Hardware Issues</td>\n",
       "      <td>The projector is not turning on. Nothing happe...</td>\n",
       "    </tr>\n",
       "    <tr>\n",
       "      <th>2</th>\n",
       "      <td>Maintenance and Cleaning</td>\n",
       "      <td>Classroom 203 is extremely dirty, there is dus...</td>\n",
       "    </tr>\n",
       "    <tr>\n",
       "      <th>3</th>\n",
       "      <td>Scheduling and Management Issues</td>\n",
       "      <td>No classroom is available at the time slot all...</td>\n",
       "    </tr>\n",
       "    <tr>\n",
       "      <th>4</th>\n",
       "      <td>Hardware Issues</td>\n",
       "      <td>My university laptop is not charging. The ligh...</td>\n",
       "    </tr>\n",
       "  </tbody>\n",
       "</table>\n",
       "</div>"
      ],
      "text/plain": [
       "                           CATEGORY  \\\n",
       "0                   Software Issues   \n",
       "1                   Hardware Issues   \n",
       "2          Maintenance and Cleaning   \n",
       "3  Scheduling and Management Issues   \n",
       "4                   Hardware Issues   \n",
       "\n",
       "                                           COMPLAINT  \n",
       "0  My university CMS is misbehaving, it is not sh...  \n",
       "1  The projector is not turning on. Nothing happe...  \n",
       "2  Classroom 203 is extremely dirty, there is dus...  \n",
       "3  No classroom is available at the time slot all...  \n",
       "4  My university laptop is not charging. The ligh...  "
      ]
     },
     "execution_count": 29,
     "metadata": {},
     "output_type": "execute_result"
    }
   ],
   "source": [
    "# New dataframe\n",
    "df.head()"
   ]
  },
  {
   "cell_type": "markdown",
   "id": "483f99db",
   "metadata": {},
   "source": [
    "## Visualize the data"
   ]
  },
  {
   "cell_type": "code",
   "execution_count": 30,
   "id": "beee1994",
   "metadata": {},
   "outputs": [
    {
     "data": {
      "image/png": "[encoded data removed]",
      "text/plain": [
       "<Figure size 800x600 with 1 Axes>"
      ]
     },
     "metadata": {},
     "output_type": "display_data"
    }
   ],
   "source": [
    "# Let us visualize the data, and see how many numbers of complaints are there per category. We will use Bar chart here.\n",
    "fig = plt.figure(figsize=(8,6))\n",
    "colors = ['grey','grey','grey','grey','grey']\n",
    "df2.groupby('CATEGORY').COMPLAINT.count().sort_values().plot.barh(\n",
    "    ylim=0, color=colors, title= 'NUMBER OF COMPLAINTS IN EACH CATEGORY')\n",
    "plt.xlabel('NUMBER OF OCCURRENCES', fontsize = 10);"
   ]
  },
  {
   "cell_type": "markdown",
   "id": "8221ffdc",
   "metadata": {},
   "source": [
    "## Text Processing\n",
    "\n",
    "#### We will transform the texts into vectors using Term Frequency-Inverse Document Frequency (TFIDF) and evaluate how important a particular word is in the collection of words. For this we need to remove punctuations and do lower casing, then the word importance is determined in terms of frequency.\n",
    "\n",
    "#### We will be using TfidfVectorizer function with the below parameters:\n",
    "* min_df: remove the words which has occurred in less than ‘min_df’ number of files.\n",
    "* Sublinear_tf: if True, then scale the frequency in logarithmic scale.\n",
    "* Stop_words: it removes stop words which are predefined in ‘english’."
   ]
  },
  {
   "cell_type": "code",
   "execution_count": 31,
   "id": "a7e1fb33",
   "metadata": {},
   "outputs": [
    {
     "name": "stdout",
     "output_type": "stream",
     "text": [
      "Each of the 100 complaints is represented by 183 features (TF-IDF score of unigrams and bigrams)\n"
     ]
    }
   ],
   "source": [
    "tfidf = TfidfVectorizer(sublinear_tf=True, min_df=5, ngram_range=(1, 2), stop_words='english')\n",
    "# We transform each complaint into a vector\n",
    "features = tfidf.fit_transform(df2.COMPLAINT).toarray()\n",
    "labels = df2.category_id\n",
    "print(\"Each of the %d complaints is represented by %d features (TF-IDF score of unigrams and bigrams)\" %(features.shape))"
   ]
  },
  {
   "cell_type": "markdown",
   "id": "a8d07f65",
   "metadata": {},
   "source": [
    "## Splitting the dataset\n",
    "\n",
    "#### Column ‘Complaint’ will be our X or the input and the Category is out Y or the output."
   ]
  },
  {
   "cell_type": "code",
   "execution_count": 32,
   "id": "8e78864a",
   "metadata": {},
   "outputs": [],
   "source": [
    "X = df2['COMPLAINT'] # Collection of documents\n",
    "y = df2['CATEGORY'] # Target or the labels we want to predict\n",
    "X_train, X_test, y_train, y_test = train_test_split(X, y, test_size=0.25, random_state = 0)"
   ]
  },
  {
   "cell_type": "markdown",
   "id": "7278662b",
   "metadata": {},
   "source": [
    "## Evaluation of Text Classification Model - Training the Model"
   ]
  },
  {
   "cell_type": "code",
   "execution_count": 33,
   "id": "f6838e19",
   "metadata": {},
   "outputs": [],
   "source": [
    "X_train, X_test, y_train, y_test, indices_train, indices_test = train_test_split(features, labels, df2.index, test_size=0.25, \n",
    "                                                               random_state=1)\n",
    "model = LinearSVC()\n",
    "model.fit(X_train, y_train)\n",
    "y_pred = model.predict(X_test)"
   ]
  },
  {
   "cell_type": "markdown",
   "id": "94b7e500",
   "metadata": {},
   "source": [
    "## Prediction"
   ]
  },
  {
   "cell_type": "code",
   "execution_count": 34,
   "id": "26ad504d",
   "metadata": {},
   "outputs": [],
   "source": [
    "X_train, X_test, y_train, y_test = train_test_split(X, y, test_size=0.25, random_state = 0)"
   ]
  },
  {
   "cell_type": "code",
   "execution_count": 35,
   "id": "60ef3e0f",
   "metadata": {},
   "outputs": [],
   "source": [
    "tfidf = TfidfVectorizer(sublinear_tf=True, min_df=5, ngram_range=(1, 2), stop_words='english')"
   ]
  },
  {
   "cell_type": "code",
   "execution_count": 36,
   "id": "f1e220e1",
   "metadata": {},
   "outputs": [],
   "source": [
    "fitted_vectorizer = tfidf.fit(X_train)\n",
    "tfidf_vectorizer_vectors = fitted_vectorizer.transform(X_train)"
   ]
  },
  {
   "cell_type": "code",
   "execution_count": 37,
   "id": "cee926e5",
   "metadata": {},
   "outputs": [],
   "source": [
    "model = LinearSVC().fit(tfidf_vectorizer_vectors, y_train)"
   ]
  },
  {
   "cell_type": "markdown",
   "id": "efcb2773",
   "metadata": {},
   "source": [
    "#### Now run the prediction"
   ]
  },
  {
   "cell_type": "code",
   "execution_count": 38,
   "id": "d468cbd3",
   "metadata": {},
   "outputs": [
    {
     "name": "stdout",
     "output_type": "stream",
     "text": [
      "['Software Issues']\n"
     ]
    }
   ],
   "source": [
    "complaint = \"\"\"the portal is stuck when I try to log in to it\"\"\"\n",
    "print(model.predict(fitted_vectorizer.transform([complaint])))"
   ]
  },
  {
   "cell_type": "code",
   "execution_count": null,
   "id": "5a0efcd2",
   "metadata": {},
   "outputs": [],
   "source": []
  },
  {
   "cell_type": "code",
   "execution_count": null,
   "id": "5089e4e3",
   "metadata": {},
   "outputs": [],
   "source": []
  },
  {
   "cell_type": "code",
   "execution_count": null,
   "id": "55a74b00",
   "metadata": {},
   "outputs": [],
   "source": []
  },
  {
   "cell_type": "code",
   "execution_count": null,
   "id": "4fdce861",
   "metadata": {},
   "outputs": [],
   "source": []
  },
  {
   "cell_type": "code",
   "execution_count": null,
   "id": "0fe615dd",
   "metadata": {},
   "outputs": [],
   "source": []
  },
  {
   "cell_type": "code",
   "execution_count": null,
   "id": "e23d50a6",
   "metadata": {},
   "outputs": [],
   "source": []
  },
  {
   "cell_type": "code",
   "execution_count": null,
   "id": "749829eb",
   "metadata": {},
   "outputs": [],
   "source": []
  },
  {
   "cell_type": "code",
   "execution_count": null,
   "id": "7163e5de",
   "metadata": {},
   "outputs": [],
   "source": []
  },
  {
   "cell_type": "code",
   "execution_count": null,
   "id": "b86b2661",
   "metadata": {},
   "outputs": [],
   "source": []
  },
  {
   "cell_type": "code",
   "execution_count": null,
   "id": "922f8692",
   "metadata": {},
   "outputs": [],
   "source": []
  },
  {
   "cell_type": "code",
   "execution_count": null,
   "id": "d35db437",
   "metadata": {},
   "outputs": [],
   "source": []
  },
  {
   "cell_type": "code",
   "execution_count": null,
   "id": "9af37fa3",
   "metadata": {},
   "outputs": [],
   "source": []
  }
 ],
 "metadata": {
  "kernelspec": {
   "display_name": "Python 3 (ipykernel)",
   "language": "python",
   "name": "python3"
  },
  "language_info": {
   "codemirror_mode": {
    "name": "ipython",
    "version": 3
   },
   "file_extension": ".py",
   "mimetype": "text/x-python",
   "name": "python",
   "nbconvert_exporter": "python",
   "pygments_lexer": "ipython3",
   "version": "3.9.13"
  }
 },
 "nbformat": 4,
 "nbformat_minor": 5
}
